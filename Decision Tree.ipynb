{
 "cells": [
  {
   "cell_type": "markdown",
   "metadata": {},
   "source": [
    "# Decision Tree from Scratch"
   ]
  },
  {
   "cell_type": "code",
   "execution_count": 1,
   "metadata": {},
   "outputs": [],
   "source": [
    "import numpy as np\n",
    "import urllib\n",
    "from urllib.request import urlopen\n",
    "import pandas as pd\n",
    "import time \n",
    "from scipy.stats import entropy\n",
    "from scipy.stats import mode"
   ]
  },
  {
   "cell_type": "code",
   "execution_count": 2,
   "metadata": {},
   "outputs": [],
   "source": [
    "#helper function to read the file\n",
    "def read_file(filename):\n",
    "    temping = []\n",
    "    with open(filename) as f:\n",
    "        for line in f:\n",
    "            temp = list(map(float, line.split(' ')[:-1]))\n",
    "            temping.append(temp)\n",
    "    return np.array(temping)"
   ]
  },
  {
   "cell_type": "code",
   "execution_count": 3,
   "metadata": {},
   "outputs": [],
   "source": [
    "def split_label(x):\n",
    "    temping = []\n",
    "    temping2 = []\n",
    "    for i in x:\n",
    "        temping.append(i[:-1])\n",
    "        temping2.append(i[-1])\n",
    "    return np.array(temping),np.array(temping2)"
   ]
  },
  {
   "cell_type": "code",
   "execution_count": 4,
   "metadata": {},
   "outputs": [],
   "source": [
    "#read the train set, test set, validation set.\n",
    "train_data = read_file('train_set.txt')\n",
    "test_data = read_file('test_set.txt')\n",
    "validation_data = read_file('validation_set.txt')"
   ]
  },
  {
   "cell_type": "code",
   "execution_count": 5,
   "metadata": {},
   "outputs": [],
   "source": [
    "x_train, y_train = split_label(train_data)\n",
    "x_valid, y_valid= split_label(validation_data)\n",
    "x_test, y_test= split_label(test_data)"
   ]
  },
  {
   "cell_type": "code",
   "execution_count": 8,
   "metadata": {},
   "outputs": [],
   "source": [
    "class mytree_node():\n",
    "    def __init__(self):\n",
    "        self.parent = None\n",
    "        self.left = None\n",
    "        self.right = None\n",
    "        self.label = -1  \n",
    "        self.leaf = False\n",
    "        self.data = None\n",
    "        self.numdata = -1\n",
    "        self.labelside = 'root'\n",
    "        self.threshold = -1\n",
    "        self.feature = -1\n",
    "\n",
    "class mytree():\n",
    "    def __init__(self):\n",
    "        self.parent = mytree_node()\n",
    "        \n",
    "    def check_pure(self,data):\n",
    "        #\"Checking whether the node is pure\"\n",
    "        if len(np.unique(data[:,-1])) ==1:\n",
    "            return True\n",
    "        else:\n",
    "            return False\n",
    "        \n",
    "    def find_threshold(self,feature_data):\n",
    "        #\"find all the threshold\"\n",
    "        unique_value = np.sort(np.unique(feature_data))[::-1]\n",
    "        first_array = unique_value[0:-1]\n",
    "        second_array = unique_value[1:]\n",
    "        difference = (first_array - second_array) / 2\n",
    "        return first_array - difference\n",
    "                                                   \n",
    "    def find_information_gain(self, data, threshold_array):\n",
    "       # \"find the information gain\"\n",
    "        min_threshold = threshold_array[0]\n",
    "        min_entropy = 10000\n",
    "        for i in range(len(threshold_array)):\n",
    "            #start finding entropy\n",
    "            left = data[data[:,0] < threshold_array[i]]\n",
    "            #the data where larger than the threshold\n",
    "            right = data[data[:,0] >= threshold_array[i]]\n",
    "\n",
    "            #Pr(x=0|Z = left)\n",
    "            prx0zl = np.sum(left[:,-1] == 0)/len(left)\n",
    "            #Pr (Z = left )\n",
    "            przl = len(left)/len(data)\n",
    "            #Pr(x=1|Z = left)\n",
    "            prx1zl = np.sum(left[:,-1])/len(left)\n",
    "\n",
    "            #Pr (Z = right )\n",
    "            przr = len(right)/len(data)\n",
    "            #Pr(x=0|Z = right)\n",
    "            prx0zr = np.sum(right[:,-1] == 0)/len(right)\n",
    "            #Pr(x=1|Z = right)\n",
    "            prx1zr = np.sum(right[:,-1])/len(right)\n",
    "\n",
    "            #H(X|Z = left)\n",
    "            Hxzl = entropy([prx0zl,prx1zl])\n",
    "            #H(X|Z = right)\n",
    "            Hxzr = entropy([prx0zr,prx1zr])\n",
    "            temp_entropy = przl * Hxzl + przr * Hxzr \n",
    "            temp_threshold = threshold_array[i]\n",
    "            if temp_entropy < min_entropy:\n",
    "                min_entropy = temp_entropy\n",
    "                min_threshold = temp_threshold\n",
    "        return min_threshold,min_entropy\n",
    "                               \n",
    "        \n",
    "    def insert_data(self, data, current_node):\n",
    "        if self.check_pure(data):\n",
    "            current_node.leaf = True\n",
    "            current_node.label = np.unique(data[:,-1])[0]\n",
    "            current_node.numdata = len(data)\n",
    "        else:\n",
    "            #the default selected feature is 0\n",
    "            selected_feature = 0\n",
    "            \n",
    "            #set a very large entropy to replace later\n",
    "            min_entropy = 10000\n",
    "            \n",
    "            #set a very larger default threshold\n",
    "            selected_threshold = None\n",
    "            \n",
    "            for idx_feature in range(len(data[0]) - 1):\n",
    "                #the index one of the feature and its label\n",
    "                index_label = [idx_feature, -1]  \n",
    "\n",
    "                #get the actual data of the feature and its label\n",
    "                feature_data  = data[:,index_label]\n",
    "                \n",
    "                #get the threshold array of the selected feature\n",
    "                threshold_array = self.find_threshold(feature_data[:,0])\n",
    "                \n",
    "                #make sure the the threshold_array exist, otherwise skip\n",
    "                if len(threshold_array)!=0: \n",
    "                    temp_threshold, temp_entropy = self.find_information_gain(feature_data,threshold_array)\n",
    "                    #keep switching to the small entropy, which increases the information gain\n",
    "                    if temp_entropy < min_entropy:\n",
    "                        min_entropy = temp_entropy\n",
    "                        #keep switch the threshold that contains largest information gain\n",
    "                        selected_threshold = temp_threshold\n",
    "                        #keep switch the feature that contains largest information gain\n",
    "                        selected_feature = idx_feature\n",
    "\n",
    "\n",
    "            left_child = data[data[:, selected_feature] < selected_threshold]\n",
    "            right_child = data[data[:, selected_feature] >= selected_threshold]\n",
    "            \n",
    "            #set up the current node\n",
    "            current_node.feature = selected_feature\n",
    "            current_node.data = data\n",
    "            current_node.numdata = len(data)\n",
    "            current_node.threshold = selected_threshold\n",
    "           # current_node.check_node()\n",
    "            \n",
    "            #current node child\n",
    "            current_node.left = mytree_node()\n",
    "            current_node.left.parent = current_node\n",
    "            current_node.left.labelside = \"left\"\n",
    "            self.insert_data(left_child, current_node.left)\n",
    "            \n",
    "            current_node.right = mytree_node()\n",
    "            current_node.right.parent = current_node\n",
    "            current_node.right.labelside = \"right\"\n",
    "            self.insert_data(right_child,current_node.right)\n",
    "                      \n",
    "    def topview(self, root,level, toplevel) :\n",
    "        print(\"(level \"+ str(level)+\" )\" + level * \"  \"  \n",
    "              + str(root.labelside) + ': Is this a leaf: ' + str(root.leaf)\n",
    "              + \"! The feature at \"+str(root.feature+1) + \" less than \" \n",
    "              + str(root.threshold)+ \". The number of data point is \" + str(root.numdata)+'\\n')\n",
    "        if level < toplevel -1:\n",
    "            if root.left.leaf == False:\n",
    "                self.topview(root.left, level+1,toplevel)\n",
    "            if root.right.leaf == False:\n",
    "                self.topview(root.right, level+1,toplevel)\n",
    "        return None\n",
    "    \n",
    "    def predict_error(self, dataset, labelset):\n",
    "    #dataset represents the data you want to predict\n",
    "        result = []\n",
    "        for i in dataset:\n",
    "            root = self.parent\n",
    "            while root.leaf == False:\n",
    "                if i[root.feature] < root.threshold:\n",
    "                    root = root.left\n",
    "                else:\n",
    "                    root = root.right\n",
    "            #print(root.label)\n",
    "            result.append(root.label)\n",
    "        return 1-(sum(np.array(result) == labelset)/len(labelset))\n",
    "     \n",
    "    def prune(self,num_prune, x_valid,y_valid,x_test,y_test):\n",
    "        line = [self.parent]\n",
    "        n=0\n",
    "        while len(line)!=0:\n",
    "            #the current error\n",
    "            current_error = self.predict_error(x_valid,y_valid)\n",
    "\n",
    "            prune_node = line.pop(0)\n",
    "            \n",
    "            #creating a new node\n",
    "            new_node = mytree_node()\n",
    "            new_node.parent = prune_node.parent\n",
    "            new_node.right = prune_node.right\n",
    "            new_node.label = prune_node.label\n",
    "            new_node.data = prune_node.data\n",
    "            new_node.numdata = prune_node.numdata\n",
    "            new_node.leaf = prune_node.leaf\n",
    "            new_node.labelside = prune_node.labelside\n",
    "            new_node.threshold = prune_node.threshold\n",
    "            new_node.left = prune_node.left\n",
    "            new_node.feature = prune_node.feature\n",
    "            \n",
    "            #prune the child\n",
    "            prune_node.left = None\n",
    "            prune_node.right = None\n",
    "            prune_node.leaf = True\n",
    "            prune_node.label = mode(prune_node.data[:,-1]).mode[0]\n",
    "            \n",
    "            #error after prune\n",
    "            after_error =self.predict_error(x_valid, y_valid)\n",
    "            \n",
    "            #compare two error\n",
    "            if current_error >= after_error:\n",
    "                #the node does need to prune and get the view error\n",
    "                n+=1\n",
    "                if n < num_prune + 1:\n",
    "                    print('# '+str(n) +' pruning: new valid error is: '+str(after_error.round(3)))\n",
    "                    print('# '+str(n) +' pruning: new test error is: '+str(self.predict_error(x_test,y_test).round(3)))     \n",
    "   \n",
    "                else:\n",
    "                    #break the while loop\n",
    "                    return None\n",
    "            else:\n",
    "                #the node does not need to prune and keep append the its child to the line\n",
    "                if new_node.left.leaf == False:\n",
    "                    line.append(new_node.left)\n",
    "                if new_node.right.leaf == False:\n",
    "                    line.append(new_node.right)\n",
    "                if prune_node.labelside == 'root':\n",
    "                    #if prune node is the root\n",
    "                    self.parent = new_node\n",
    "                    new_node.left.parent = self.parent\n",
    "                    new_node.right.parent = self.parent\n",
    "                if prune_node.labelside == 'left':\n",
    "                    #if prune node is left node\n",
    "                    prune_node.parent.left = new_node\n",
    "                if prune_node.labelside == 'right':\n",
    "                    #if prune node is right node\n",
    "                    prune_node.parent.right = new_node\n",
    "\n",
    "            \n",
    "    def check_salient_feature(self,root,level,toplevel):\n",
    "        feature_list=[root.feature]\n",
    "        if level < toplevel -1:\n",
    "            if root.left.leaf == False:\n",
    "                feature_list+= self.check_salient_feature(root.left, level+1,toplevel)\n",
    "            if root.right.leaf == False:\n",
    "                feature_list+=self.check_salient_feature(root.right, level+1,toplevel)\n",
    "        return feature_list\n",
    "                    "
   ]
  },
  {
   "cell_type": "code",
   "execution_count": 9,
   "metadata": {},
   "outputs": [],
   "source": [
    "tree = mytree()"
   ]
  },
  {
   "cell_type": "code",
   "execution_count": 10,
   "metadata": {},
   "outputs": [
    {
     "name": "stdout",
     "output_type": "stream",
     "text": [
      "CPU times: user 17.7 s, sys: 17.3 ms, total: 17.7 s\n",
      "Wall time: 17.7 s\n"
     ]
    }
   ],
   "source": [
    "%time tree.insert_data(train_data, tree.parent)"
   ]
  },
  {
   "cell_type": "markdown",
   "metadata": {},
   "source": [
    "### 1. First, build an ID3 Decision Tree classifier based on the data in train_set.txt. Do not use pruning.Draw the first three levels decision tree that you obtain."
   ]
  },
  {
   "cell_type": "code",
   "execution_count": 11,
   "metadata": {},
   "outputs": [
    {
     "name": "stdout",
     "output_type": "stream",
     "text": [
      "(level 0 )root: Is this a leaf: False! The feature at 5 less than 0.5. The number of data point is 2000\n",
      "\n",
      "(level 1 )  left: Is this a leaf: False! The feature at 1 less than 415000.0. The number of data point is 1319\n",
      "\n",
      "(level 2 )    left: Is this a leaf: False! The feature at 17 less than 2506.5. The number of data point is 1284\n",
      "\n",
      "(level 2 )    right: Is this a leaf: False! The feature at 21 less than 208.0. The number of data point is 35\n",
      "\n",
      "(level 1 )  right: Is this a leaf: False! The feature at 5 less than 1.5. The number of data point is 681\n",
      "\n",
      "(level 2 )    left: Is this a leaf: False! The feature at 20 less than 584.5. The number of data point is 292\n",
      "\n",
      "(level 2 )    right: Is this a leaf: False! The feature at 21 less than 2006.0. The number of data point is 389\n",
      "\n"
     ]
    }
   ],
   "source": [
    "tree.topview(tree.parent, 0, 3)"
   ]
  },
  {
   "cell_type": "code",
   "execution_count": 12,
   "metadata": {},
   "outputs": [
    {
     "data": {
      "image/png": "[encoded data removed]",
      "text/plain": [
       "<IPython.core.display.Image object>"
      ]
     },
     "execution_count": 12,
     "metadata": {},
     "output_type": "execute_result"
    }
   ],
   "source": [
    "from IPython.display import Image\n",
    "Image(filename='threelevel.png')"
   ]
  },
  {
   "cell_type": "markdown",
   "metadata": {},
   "source": [
    "### 2. What is the training and test error of your classifier in part (1), where test error is measured on the data in test_set.txt?"
   ]
  },
  {
   "cell_type": "code",
   "execution_count": 13,
   "metadata": {},
   "outputs": [],
   "source": [
    "trainset_error = tree.predict_error(x_train,y_train)\n",
    "testset_error = tree.predict_error(x_test,y_test)"
   ]
  },
  {
   "cell_type": "code",
   "execution_count": 14,
   "metadata": {},
   "outputs": [
    {
     "data": {
      "text/html": [
       "<div>\n",
       "<style scoped>\n",
       "    .dataframe tbody tr th:only-of-type {\n",
       "        vertical-align: middle;\n",
       "    }\n",
       "\n",
       "    .dataframe tbody tr th {\n",
       "        vertical-align: top;\n",
       "    }\n",
       "\n",
       "    .dataframe thead th {\n",
       "        text-align: right;\n",
       "    }\n",
       "</style>\n",
       "<table border=\"1\" class=\"dataframe\">\n",
       "  <thead>\n",
       "    <tr style=\"text-align: right;\">\n",
       "      <th></th>\n",
       "      <th>trainset_error</th>\n",
       "      <th>testset_error</th>\n",
       "    </tr>\n",
       "  </thead>\n",
       "  <tbody>\n",
       "    <tr>\n",
       "      <th>0</th>\n",
       "      <td>0.0</td>\n",
       "      <td>0.173</td>\n",
       "    </tr>\n",
       "  </tbody>\n",
       "</table>\n",
       "</div>"
      ],
      "text/plain": [
       "   trainset_error  testset_error\n",
       "0             0.0          0.173"
      ]
     },
     "execution_count": 14,
     "metadata": {},
     "output_type": "execute_result"
    }
   ],
   "source": [
    "d = {'trainset_error':[trainset_error],'testset_error':[testset_error]}\n",
    "pd.DataFrame(d)"
   ]
  },
  {
   "cell_type": "markdown",
   "metadata": {},
   "source": [
    "### 3. Now, prune the decision tree using the data in validation_set.txt. While selecting nodes to prune, select them in Breadth-First order, going from left to right."
   ]
  },
  {
   "cell_type": "code",
   "execution_count": 15,
   "metadata": {},
   "outputs": [
    {
     "name": "stdout",
     "output_type": "stream",
     "text": [
      "# 1 pruning: new valid error is: 0.122\n",
      "# 1 pruning: new test error is: 0.117\n",
      "# 2 pruning: new valid error is: 0.107\n",
      "# 2 pruning: new test error is: 0.103\n"
     ]
    }
   ],
   "source": [
    "tree.prune(2,x_valid,y_valid,x_test,y_test)"
   ]
  },
  {
   "cell_type": "markdown",
   "metadata": {},
   "source": [
    "### 4. features.txt file provides a description in order of each of the features – that is, it tells you what each coordinate means. Based on the feature descriptions, find the most salient or prominent feature that predicts credit card default. "
   ]
  },
  {
   "cell_type": "code",
   "execution_count": 16,
   "metadata": {},
   "outputs": [],
   "source": [
    "def read_file_4(filename):\n",
    "    temping = []\n",
    "    with open(filename) as f:\n",
    "        for line in f:\n",
    "            temp = list(line[:-1].split(' '))\n",
    "            #temp = line.split(' ')\n",
    "            temping.append(temp)\n",
    "    return np.array(temping)"
   ]
  },
  {
   "cell_type": "code",
   "execution_count": 17,
   "metadata": {},
   "outputs": [],
   "source": [
    "pa2feature = read_file_4('features.txt')"
   ]
  },
  {
   "cell_type": "code",
   "execution_count": 18,
   "metadata": {},
   "outputs": [
    {
     "data": {
      "text/plain": [
       "array([['LIMIT_BAL'],\n",
       "       ['SEX'],\n",
       "       ['COLLEGE_ABOVE'],\n",
       "       ['AGE'],\n",
       "       ['PAYMENT_DELAY_SEPTEMBER'],\n",
       "       ['PAYMENT_DELAY_AUGUST'],\n",
       "       ['PAYMENT_DELAY_JULY'],\n",
       "       ['PAYMENT_DELAY_JUNE'],\n",
       "       ['PAYMENT_DELAY_MAY'],\n",
       "       ['PAYMENT_DELAY_APRIL'],\n",
       "       ['BILL_AMT1'],\n",
       "       ['BILL_AMT2'],\n",
       "       ['BILL_AMT3'],\n",
       "       ['BILL_AMT4'],\n",
       "       ['BILL_AMT5'],\n",
       "       ['BILL_AMT6'],\n",
       "       ['PAY_AMT1'],\n",
       "       ['PAY_AMT2'],\n",
       "       ['PAY_AMT3'],\n",
       "       ['PAY_AMT4'],\n",
       "       ['PAY_AMT5'],\n",
       "       ['PAY_AMT6']], dtype='<U23')"
      ]
     },
     "execution_count": 18,
     "metadata": {},
     "output_type": "execute_result"
    }
   ],
   "source": [
    "pa2feature"
   ]
  },
  {
   "cell_type": "markdown",
   "metadata": {},
   "source": [
    "The most revelent feature should be the feature of the root since it splits largest amount of data, which is shown on the figure I drew in question 1."
   ]
  },
  {
   "cell_type": "code",
   "execution_count": 19,
   "metadata": {},
   "outputs": [
    {
     "data": {
      "text/plain": [
       "array(['PAYMENT_DELAY_SEPTEMBER'], dtype='<U23')"
      ]
     },
     "execution_count": 19,
     "metadata": {},
     "output_type": "execute_result"
    }
   ],
   "source": [
    "pa2feature[tree.parent.feature]"
   ]
  },
  {
   "cell_type": "markdown",
   "metadata": {},
   "source": [
    "The most salient feature should be PAYMENT_DELAY_SEPTEMBER"
   ]
  }
 ],
 "metadata": {
  "kernelspec": {
   "display_name": "Python 3",
   "language": "python",
   "name": "python3"
  },
  "language_info": {
   "codemirror_mode": {
    "name": "ipython",
    "version": 3
   },
   "file_extension": ".py",
   "mimetype": "text/x-python",
   "name": "python",
   "nbconvert_exporter": "python",
   "pygments_lexer": "ipython3",
   "version": "3.7.6"
  }
 },
 "nbformat": 4,
 "nbformat_minor": 4
}
